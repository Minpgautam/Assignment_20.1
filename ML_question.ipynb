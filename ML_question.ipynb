{
 "cells": [
  {
   "cell_type": "code",
   "execution_count": 1,
   "metadata": {},
   "outputs": [],
   "source": [
    "## Assignment: 20.1\n",
    "## Machine Learning=01\n",
    "## Reference: career.guru99.com/top 50 interview question on machine learning"
   ]
  },
  {
   "cell_type": "code",
   "execution_count": 2,
   "metadata": {},
   "outputs": [],
   "source": [
    "# Que(1): What are the three stages to build the hypothesis or model in machine learning??"
   ]
  },
  {
   "cell_type": "markdown",
   "metadata": {},
   "source": [
    "solns: \n",
    "The three stages to build the hypothesis or model in machine learning are as follows:\n",
    "i) Model Building: choose the suitable algorithm for the model and train it according to the requirement of your problem. \n",
    "ii) Model testing: Check the accuracy of the model through the test data. \n",
    "iii) Applying the model: Make the required changes after testing and apply the final model which we have at the end.\n"
   ]
  },
  {
   "cell_type": "code",
   "execution_count": 3,
   "metadata": {},
   "outputs": [],
   "source": [
    "## Que(2): What is the standard approach to supervised learning??"
   ]
  },
  {
   "cell_type": "markdown",
   "metadata": {},
   "source": [
    "solns:    The standard approach to supervised learning is to split the set of example into the training set and the test."
   ]
  },
  {
   "cell_type": "code",
   "execution_count": 4,
   "metadata": {},
   "outputs": [],
   "source": [
    "# Que(3): What is training set and test set??"
   ]
  },
  {
   "cell_type": "markdown",
   "metadata": {},
   "source": [
    "Solns: In machine learning, Training set is a dataset used to train the model. The test set is a dataset used to measure how well the model performs at making predictions on that test set."
   ]
  },
  {
   "cell_type": "code",
   "execution_count": 5,
   "metadata": {},
   "outputs": [],
   "source": [
    "# Que(4): What is the general principle of an ensemble method and what is bagging and boosting in\n",
    "#       ensemble method???"
   ]
  },
  {
   "cell_type": "markdown",
   "metadata": {},
   "source": [
    "Solns: The general principle of an ensemble method is to combine the predictions of several models built with a given learning algorithm in order to improve robustness over a single model.\n",
    "Bagging: Baggingis a method in ensemble for improving unstable estimation or classification schemes.\n",
    "Boosting: Boosting method are used sequentially to reduce the bias of the combined model.\n",
    "Both boosting and bagging can reduce errors by reducing the variance term.\n"
   ]
  },
  {
   "cell_type": "code",
   "execution_count": 6,
   "metadata": {},
   "outputs": [],
   "source": [
    "# Que(5): How can you avoid overfitting??"
   ]
  },
  {
   "cell_type": "markdown",
   "metadata": {},
   "source": [
    "In machine learning ,when a statistical model describes random error or noise instead of underlying relationship \"overfitting\" occurs.Overfitting is observed when a model is excessively complex . The possibility of overfitting exists as the criteria used for training the model is not the same as the criteria used to judge the efficacy of a model.The question arises how to avoid overfitting. The answer is as: : \n",
    "By using a lot of data overfitting can be avoided,overfitting happens relatively as you have a small dataset,and you try to learn from it. But if you have a small database and you are forced to come with a model based on that. In such sistuation,you can use a teechnique know as cross validation. In this method the dataset splits into two sections, testing and training datasets.The testing dataset will only test the model while training dataset,the datapoints will come up with the model. In this technique, a model is usaually given a dataset of a known data on which training is run and  a dataset of unknown data against which the model is tested.The idea of cross-validation is to define a dataset to \"test\" the model in the training phase.\n"
   ]
  },
  {
   "cell_type": "code",
   "execution_count": null,
   "metadata": {},
   "outputs": [],
   "source": []
  }
 ],
 "metadata": {
  "kernelspec": {
   "display_name": "Python 3",
   "language": "python",
   "name": "python3"
  },
  "language_info": {
   "codemirror_mode": {
    "name": "ipython",
    "version": 3
   },
   "file_extension": ".py",
   "mimetype": "text/x-python",
   "name": "python",
   "nbconvert_exporter": "python",
   "pygments_lexer": "ipython3",
   "version": "3.6.5"
  }
 },
 "nbformat": 4,
 "nbformat_minor": 2
}
